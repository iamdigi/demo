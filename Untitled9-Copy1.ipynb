{
 "cells": [
  {
   "cell_type": "code",
   "execution_count": 1,
   "metadata": {},
   "outputs": [
    {
     "ename": "SyntaxError",
     "evalue": "(unicode error) 'unicodeescape' codec can't decode bytes in position 2-3: truncated \\UXXXXXXXX escape (<ipython-input-1-7560620ee298>, line 1)",
     "output_type": "error",
     "traceback": [
      "\u001b[1;36m  File \u001b[1;32m\"<ipython-input-1-7560620ee298>\"\u001b[1;36m, line \u001b[1;32m1\u001b[0m\n\u001b[1;33m    f=open(\"C:\\Users\\DIGVIJAY SINGH\\OneDrive\\Desktop\",\"a\")\u001b[0m\n\u001b[1;37m          ^\u001b[0m\n\u001b[1;31mSyntaxError\u001b[0m\u001b[1;31m:\u001b[0m (unicode error) 'unicodeescape' codec can't decode bytes in position 2-3: truncated \\UXXXXXXXX escape\n"
     ]
    }
   ],
   "source": [
    "f=open(\"txt.txt\",\"a\")\n",
    "f.write(\"content added by me\")\n",
    "f.close()\n",
    "f=open(\"txt.txt\",\"r\")\n",
    "print(f.read())"
   ]
  },
  {
   "cell_type": "code",
   "execution_count": 3,
   "metadata": {},
   "outputs": [
    {
     "name": "stdout",
     "output_type": "stream",
     "text": [
      "machine learningcontent added by me\n"
     ]
    }
   ],
   "source": [
    "f=open(\"txt.txt\",\"a\")\n",
    "f.write(\"content added by me\")\n",
    "f.close()\n",
    "f=open(\"txt.txt\",\"r\")\n",
    "print(f.read())"
   ]
  },
  {
   "cell_type": "code",
   "execution_count": 6,
   "metadata": {
    "scrolled": true
   },
   "outputs": [
    {
     "ename": "SyntaxError",
     "evalue": "invalid syntax (<ipython-input-6-af76f47b48f3>, line 5)",
     "output_type": "error",
     "traceback": [
      "\u001b[1;36m  File \u001b[1;32m\"<ipython-input-6-af76f47b48f3>\"\u001b[1;36m, line \u001b[1;32m5\u001b[0m\n\u001b[1;33m    except (zero division error):\u001b[0m\n\u001b[1;37m                        ^\u001b[0m\n\u001b[1;31mSyntaxError\u001b[0m\u001b[1;31m:\u001b[0m invalid syntax\n"
     ]
    }
   ],
   "source": [
    "try:\n",
    "    a=int(input(\"number:\"))\n",
    "    b=int(input(\"number:\"))\n",
    "    print(\"result:\"+ (a/b))\n",
    "except (zero division error):\n",
    "    print(\"divided by zero ,not allowed\")\n",
    "    finially:\n",
    "    print(\"code extended\")\n",
    "    print(\"last print\")"
   ]
  },
  {
   "cell_type": "code",
   "execution_count": 9,
   "metadata": {},
   "outputs": [
    {
     "ename": "SyntaxError",
     "evalue": "invalid syntax (<ipython-input-9-030035a05524>, line 5)",
     "output_type": "error",
     "traceback": [
      "\u001b[1;36m  File \u001b[1;32m\"<ipython-input-9-030035a05524>\"\u001b[1;36m, line \u001b[1;32m5\u001b[0m\n\u001b[1;33m    except (zero division error):\u001b[0m\n\u001b[1;37m                        ^\u001b[0m\n\u001b[1;31mSyntaxError\u001b[0m\u001b[1;31m:\u001b[0m invalid syntax\n"
     ]
    }
   ],
   "source": [
    "try:\n",
    "    a=int(input(\"number:\"))\n",
    "    b=int(input(\"number:\"))\n",
    "    print(\"result:\"+ str(a/b))\n",
    "except (zero division error):\n",
    "    print(\"divided by zero ,not allowed\")\n",
    "finally:\n",
    "    print(\"code executed\")\n",
    "    print(\"last print\")"
   ]
  },
  {
   "cell_type": "code",
   "execution_count": 10,
   "metadata": {},
   "outputs": [
    {
     "ename": "SyntaxError",
     "evalue": "invalid syntax (<ipython-input-10-181c051ab5ff>, line 5)",
     "output_type": "error",
     "traceback": [
      "\u001b[1;36m  File \u001b[1;32m\"<ipython-input-10-181c051ab5ff>\"\u001b[1;36m, line \u001b[1;32m5\u001b[0m\n\u001b[1;33m    except (zero division error):\u001b[0m\n\u001b[1;37m                        ^\u001b[0m\n\u001b[1;31mSyntaxError\u001b[0m\u001b[1;31m:\u001b[0m invalid syntax\n"
     ]
    }
   ],
   "source": [
    "try:\n",
    "    a=int(input(\"number:\"))\n",
    "    b=int(input(\"number:\"))\n",
    "    print(\"result:\"+ str(a/b))\n",
    "except (zero division error):\n",
    "    print(\"divided by zero ,not allowed\")\n",
    "finally:\n",
    "    print(\"code executed\")\n",
    "    print(\"last print\")"
   ]
  },
  {
   "cell_type": "code",
   "execution_count": 12,
   "metadata": {},
   "outputs": [
    {
     "name": "stdout",
     "output_type": "stream",
     "text": [
      " number:4\n",
      "number:0\n",
      "divided by zero ,not allowed\n",
      "code executed\n",
      "last print\n"
     ]
    }
   ],
   "source": [
    "try:\n",
    "    a=int(input(\" number:\"))\n",
    "    b=int(input(\"number:\"))\n",
    "    print(\"result:\"+ str(a/b))\n",
    "except (ZeroDivisionError):\n",
    "    print(\"divided by zero ,not allowed\")\n",
    "finally:\n",
    "    print(\"code executed\")\n",
    "    print(\"last print\")"
   ]
  },
  {
   "cell_type": "code",
   "execution_count": 13,
   "metadata": {},
   "outputs": [
    {
     "ename": "SyntaxError",
     "evalue": "invalid syntax (<ipython-input-13-bed16ea8b8ae>, line 1)",
     "output_type": "error",
     "traceback": [
      "\u001b[1;36m  File \u001b[1;32m\"<ipython-input-13-bed16ea8b8ae>\"\u001b[1;36m, line \u001b[1;32m1\u001b[0m\n\u001b[1;33m    import(xyz)\u001b[0m\n\u001b[1;37m          ^\u001b[0m\n\u001b[1;31mSyntaxError\u001b[0m\u001b[1;31m:\u001b[0m invalid syntax\n"
     ]
    }
   ],
   "source": [
    "import(xyz)\n",
    "print(add(40,60))"
   ]
  },
  {
   "cell_type": "code",
   "execution_count": 16,
   "metadata": {},
   "outputs": [
    {
     "ename": "ModuleNotFoundError",
     "evalue": "No module named 'xyz'",
     "output_type": "error",
     "traceback": [
      "\u001b[1;31m---------------------------------------------------------------------------\u001b[0m",
      "\u001b[1;31mModuleNotFoundError\u001b[0m                       Traceback (most recent call last)",
      "\u001b[1;32m<ipython-input-16-fa998943a4f0>\u001b[0m in \u001b[0;36m<module>\u001b[1;34m\u001b[0m\n\u001b[1;32m----> 1\u001b[1;33m \u001b[1;32mfrom\u001b[0m \u001b[0mxyz\u001b[0m \u001b[1;32mimport\u001b[0m \u001b[0madd\u001b[0m\u001b[1;33m\u001b[0m\u001b[1;33m\u001b[0m\u001b[0m\n\u001b[0m\u001b[0;32m      2\u001b[0m \u001b[0mprint\u001b[0m\u001b[1;33m(\u001b[0m\u001b[0madd\u001b[0m\u001b[1;33m(\u001b[0m\u001b[1;36m40\u001b[0m\u001b[1;33m,\u001b[0m\u001b[1;36m60\u001b[0m\u001b[1;33m)\u001b[0m\u001b[1;33m)\u001b[0m\u001b[1;33m\u001b[0m\u001b[1;33m\u001b[0m\u001b[0m\n",
      "\u001b[1;31mModuleNotFoundError\u001b[0m: No module named 'xyz'"
     ]
    }
   ],
   "source": [
    "from xyz import add\n",
    "print(add(40,60))"
   ]
  },
  {
   "cell_type": "code",
   "execution_count": 25,
   "metadata": {},
   "outputs": [
    {
     "name": "stdout",
     "output_type": "stream",
     "text": [
      "100\n"
     ]
    }
   ],
   "source": [
    "from xyz import add\n",
    "\n",
    "print(add(40,60))\n"
   ]
  },
  {
   "cell_type": "code",
   "execution_count": 26,
   "metadata": {},
   "outputs": [
    {
     "ename": "SyntaxError",
     "evalue": "invalid syntax (<ipython-input-26-f1ad67ffdc3d>, line 4)",
     "output_type": "error",
     "traceback": [
      "\u001b[1;36m  File \u001b[1;32m\"<ipython-input-26-f1ad67ffdc3d>\"\u001b[1;36m, line \u001b[1;32m4\u001b[0m\n\u001b[1;33m    print(\"max\":array.max())\u001b[0m\n\u001b[1;37m               ^\u001b[0m\n\u001b[1;31mSyntaxError\u001b[0m\u001b[1;31m:\u001b[0m invalid syntax\n"
     ]
    }
   ],
   "source": [
    "import mumpy as np\n",
    "array =np.array([[1,2,3],[4,5,6],[7,8,9]])\n",
    "print(\"array\")\n",
    "print(\"max\":array.max())\n",
    "print(\"min\":array.min())\n",
    "print(\"mean\":array.mean())\n",
    "\n"
   ]
  },
  {
   "cell_type": "code",
   "execution_count": 27,
   "metadata": {},
   "outputs": [
    {
     "ename": "SyntaxError",
     "evalue": "invalid syntax (<ipython-input-27-10ce0f1389aa>, line 4)",
     "output_type": "error",
     "traceback": [
      "\u001b[1;36m  File \u001b[1;32m\"<ipython-input-27-10ce0f1389aa>\"\u001b[1;36m, line \u001b[1;32m4\u001b[0m\n\u001b[1;33m    print(\"max\":array.max())\u001b[0m\n\u001b[1;37m               ^\u001b[0m\n\u001b[1;31mSyntaxError\u001b[0m\u001b[1;31m:\u001b[0m invalid syntax\n"
     ]
    }
   ],
   "source": [
    "import numpy as np\n",
    "array =np.array([[1,2,3],[4,5,6],[7,8,9]])\n",
    "print(\"array\")\n",
    "print(\"max\":array.max())\n",
    "print(\"min\":array.min())\n",
    "print(\"mean\":array.mean())\n",
    "\n"
   ]
  },
  {
   "cell_type": "code",
   "execution_count": 30,
   "metadata": {},
   "outputs": [
    {
     "ename": "SyntaxError",
     "evalue": "invalid syntax (<ipython-input-30-e5943453d0b5>, line 4)",
     "output_type": "error",
     "traceback": [
      "\u001b[1;36m  File \u001b[1;32m\"<ipython-input-30-e5943453d0b5>\"\u001b[1;36m, line \u001b[1;32m4\u001b[0m\n\u001b[1;33m    print(\"max:\"array.max())\u001b[0m\n\u001b[1;37m                    ^\u001b[0m\n\u001b[1;31mSyntaxError\u001b[0m\u001b[1;31m:\u001b[0m invalid syntax\n"
     ]
    }
   ],
   "source": [
    "import numpy as np\n",
    "array =np.array([[1,2,3],[4,5,6],[7,8,9]])\n",
    "print(array)\n",
    "print(\"max:\"array.max())\n",
    "print(\"min:\"array.min())\n",
    "print(\"mean:\"array.mean())"
   ]
  },
  {
   "cell_type": "code",
   "execution_count": 34,
   "metadata": {},
   "outputs": [
    {
     "name": "stdout",
     "output_type": "stream",
     "text": [
      "[[1 2 3]\n",
      " [4 5 6]\n",
      " [7 8 9]]\n",
      "max: 9\n",
      "min: 1\n",
      "mean: 5.0\n"
     ]
    }
   ],
   "source": [
    "import numpy as np\n",
    "array =np.array([[1,2,3],[4,5,6],[7,8,9]])\n",
    "print(array)\n",
    "print(\"max:\",array.max())\n",
    "print(\"min:\",array.min())\n",
    "print(\"mean:\",array.mean())"
   ]
  },
  {
   "cell_type": "code",
   "execution_count": 35,
   "metadata": {},
   "outputs": [
    {
     "ename": "SyntaxError",
     "evalue": "invalid syntax (<ipython-input-35-008b7b05c6e6>, line 3)",
     "output_type": "error",
     "traceback": [
      "\u001b[1;36m  File \u001b[1;32m\"<ipython-input-35-008b7b05c6e6>\"\u001b[1;36m, line \u001b[1;32m3\u001b[0m\n\u001b[1;33m    b =np.array([[4,6,9],[8,0,4,[5,6,q]])\u001b[0m\n\u001b[1;37m                                        ^\u001b[0m\n\u001b[1;31mSyntaxError\u001b[0m\u001b[1;31m:\u001b[0m invalid syntax\n"
     ]
    }
   ],
   "source": [
    "import numpy as np\n",
    "a =np.array([[1,2,3],[4,5,6],[7,8,9]])\n",
    "b =np.array([[4,6,9],[8,0,4,[5,6,q]])\n",
    "print(array)\n",
    "print(a+b)\n",
    "print(a-b)\n",
    "print(a*b)"
   ]
  },
  {
   "cell_type": "code",
   "execution_count": 37,
   "metadata": {},
   "outputs": [
    {
     "name": "stdout",
     "output_type": "stream",
     "text": [
      "[[1 2 3]\n",
      " [4 5 6]\n",
      " [7 8 9]]\n",
      "[[ 5  8 12]\n",
      " [12  5 10]\n",
      " [12 14 12]]\n",
      "[[-3 -4 -6]\n",
      " [-4  5  2]\n",
      " [ 2  2  6]]\n",
      "[[ 4 12 27]\n",
      " [32  0 24]\n",
      " [35 48 27]]\n"
     ]
    }
   ],
   "source": [
    "import numpy as np\n",
    "a =np.array([[1,2,3],[4,5,6],[7,8,9]])\n",
    "b =np.array([[4,6,9],[8,0,4],[5,6,3]])\n",
    "print(array)\n",
    "print(a+b)\n",
    "print(a-b)\n",
    "print(a*b)"
   ]
  },
  {
   "cell_type": "code",
   "execution_count": 38,
   "metadata": {},
   "outputs": [
    {
     "ename": "SyntaxError",
     "evalue": "invalid syntax (<ipython-input-38-ee82ca59400e>, line 2)",
     "output_type": "error",
     "traceback": [
      "\u001b[1;36m  File \u001b[1;32m\"<ipython-input-38-ee82ca59400e>\"\u001b[1;36m, line \u001b[1;32m2\u001b[0m\n\u001b[1;33m    data{\"country\":[\"india\",china],\u001b[0m\n\u001b[1;37m        ^\u001b[0m\n\u001b[1;31mSyntaxError\u001b[0m\u001b[1;31m:\u001b[0m invalid syntax\n"
     ]
    }
   ],
   "source": [
    "import panda as pd\n",
    "data{\"country\":[\"india\",china],\n",
    "    \"capital\":[\"new delhi\",\"beijing\"],\n",
    "    \"area\":[8634,1721]}\n",
    "dt= pd.Data Frame(data)\n",
    "ptint(dt)"
   ]
  },
  {
   "cell_type": "code",
   "execution_count": 44,
   "metadata": {},
   "outputs": [
    {
     "name": "stdout",
     "output_type": "stream",
     "text": [
      "  country    capital  area\n",
      "0   india  new delhi  8634\n",
      "1   china    beijing  1721\n"
     ]
    }
   ],
   "source": [
    "import pandas as pd\n",
    "data={\"country\":[\"india\",\"china\"],\n",
    "    \"capital\":[\"new delhi\",\"beijing\"],\n",
    "    \"area\":[\"8634\",\"1721\"]}\n",
    "dt= pd.DataFrame(data)\n",
    "print(dt)"
   ]
  },
  {
   "cell_type": "code",
   "execution_count": null,
   "metadata": {},
   "outputs": [],
   "source": [
    "import pandas as pd \n",
    "dt=pd read_csv(C:\\Users\\DIGVIJAY SINGH\\OneDrive\\Desktop)\n",
    "df="
   ]
  }
 ],
 "metadata": {
  "kernelspec": {
   "display_name": "Python 3",
   "language": "python",
   "name": "python3"
  },
  "language_info": {
   "codemirror_mode": {
    "name": "ipython",
    "version": 3
   },
   "file_extension": ".py",
   "mimetype": "text/x-python",
   "name": "python",
   "nbconvert_exporter": "python",
   "pygments_lexer": "ipython3",
   "version": "3.7.3"
  }
 },
 "nbformat": 4,
 "nbformat_minor": 2
}
