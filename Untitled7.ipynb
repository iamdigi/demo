{
 "cells": [
  {
   "cell_type": "code",
   "execution_count": 2,
   "metadata": {},
   "outputs": [
    {
     "name": "stdout",
     "output_type": "stream",
     "text": [
      "Please Enter the Year Number you wish: 2012\n",
      "2012 is a Leap Year\n"
     ]
    }
   ],
   "source": [
    "year = int(input(\"Please Enter the Year Number you wish: \"))\n",
    "\n",
    "if (year%400 == 0):\n",
    "          print(\"%d is a Leap Year\" %year)\n",
    "elif (year%100 == 0):\n",
    "          print(\"%d is Not the Leap Year\" %year)\n",
    "elif (year%4 == 0):\n",
    "          print(\"%d is a Leap Year\" %year)\n",
    "else:\n",
    "          print(\"%d is Not the Leap Year\" %year)"
   ]
  },
  {
   "cell_type": "code",
   "execution_count": 4,
   "metadata": {},
   "outputs": [
    {
     "name": "stdout",
     "output_type": "stream",
     "text": [
      "Please Enter a Number : 3\n",
      "This Number is Odd\n"
     ]
    }
   ],
   "source": [
    "a=int(input(\"Please Enter a Number : \"));  \n",
    "if(a%2==0):  \n",
    "    print(\"This Number is Even\")  \n",
    "else:  \n",
    "    print(\"This Number is Odd\")"
   ]
  },
  {
   "cell_type": "code",
   "execution_count": 8,
   "metadata": {},
   "outputs": [
    {
     "name": "stdout",
     "output_type": "stream",
     "text": [
      "enter number of digits you want in series (minimum 2): 8\n",
      "\n",
      "fibonacci series is:\n",
      "0 , 1, 1, 2, 3, 5, 8, 13, "
     ]
    }
   ],
   "source": [
    "num = int(input(\"enter number of digits you want in series (minimum 2): \"))\n",
    " \n",
    "first = 0\n",
    "second = 1\n",
    " \n",
    "print(\"\\nfibonacci series is:\")\n",
    "print(first, \",\", second, end=\", \")\n",
    " \n",
    "for i in range(2, num):\n",
    "     next = first + second\n",
    "    print(next, end=\", \")\n",
    " \n",
    "   first = second\n",
    "    second = next"
   ]
  },
  {
   "cell_type": "code",
   "execution_count": 9,
   "metadata": {},
   "outputs": [
    {
     "name": "stdout",
     "output_type": "stream",
     "text": [
      "Enter a number: 67\n",
      "67 is not an Armstrong number\n"
     ]
    }
   ],
   "source": [
    "num = int(input(\"Enter a number: \"))  \n",
    "sum = 0  \n",
    "temp = num  \n",
    "  \n",
    "while temp > 0:  \n",
    "   digit = temp % 10  \n",
    "   sum += digit ** 3  \n",
    "   temp //= 10  \n",
    "  \n",
    "if num == sum:  \n",
    "   print(num,\"is an Armstrong number\")  \n",
    "else:  \n",
    "   print(num,\"is not an Armstrong number\")"
   ]
  },
  {
   "cell_type": "code",
   "execution_count": 10,
   "metadata": {},
   "outputs": [
    {
     "name": "stdout",
     "output_type": "stream",
     "text": [
      "Prime numbers between 900 and 1000 are:\n",
      "907\n",
      "911\n",
      "919\n",
      "929\n",
      "937\n",
      "941\n",
      "947\n",
      "953\n",
      "967\n",
      "971\n",
      "977\n",
      "983\n",
      "991\n",
      "997\n"
     ]
    }
   ],
   "source": [
    "lower = 900\n",
    "upper = 1000\n",
    "print(\"Prime numbers between\",lower,\"and\",upper,\"are:\")\n",
    "for num in range(lower,upper + 1):\n",
    "   if num > 1:\n",
    "       for i in range(2,num):\n",
    "           if (num % i) == 0:\n",
    "               break\n",
    "       else:\n",
    "           print(num)"
   ]
  },
  {
   "cell_type": "code",
   "execution_count": 12,
   "metadata": {},
   "outputs": [
    {
     "name": "stdout",
     "output_type": "stream",
     "text": [
      "The filtered letters are:\n",
      "i\n",
      "e\n"
     ]
    }
   ],
   "source": [
    "def fun(variable): \n",
    "    letters = ['a', 'e', 'i', 'o', 'u'] \n",
    "    if (variable in letters): \n",
    "        return True\n",
    "    else: \n",
    "        return False\n",
    "sequence = ['g', 'i', 'e', 'j', 'k', 's', 'p', 'r']\n",
    "filtered = filter(fun, sequence) \n",
    "print('The filtered letters are:') \n",
    "for s in filtered: \n",
    "    print(s) "
   ]
  },
  {
   "cell_type": "code",
   "execution_count": 13,
   "metadata": {},
   "outputs": [
    {
     "name": "stdout",
     "output_type": "stream",
     "text": [
      "The zipped result is : {('Astha', 2, 70), ('Shambhavi', 3, 60), ('Manjeet', 4, 40), ('Nikhil', 1, 50)}\n"
     ]
    }
   ],
   "source": [
    "name = [ \"Manjeet\", \"Nikhil\", \"Shambhavi\", \"Astha\" ] \n",
    "roll_no = [ 4, 1, 3, 2 ] \n",
    "marks = [ 40, 50, 60, 70 ]  \n",
    "mapped = zip(name, roll_no, marks)  \n",
    "mapped = set(mapped) \n",
    "print (\"The zipped result is : \",end=\"\") \n",
    "print (mapped) "
   ]
  },
  {
   "cell_type": "code",
   "execution_count": null,
   "metadata": {},
   "outputs": [],
   "source": []
  }
 ],
 "metadata": {
  "kernelspec": {
   "display_name": "Python 3",
   "language": "python",
   "name": "python3"
  },
  "language_info": {
   "codemirror_mode": {
    "name": "ipython",
    "version": 3
   },
   "file_extension": ".py",
   "mimetype": "text/x-python",
   "name": "python",
   "nbconvert_exporter": "python",
   "pygments_lexer": "ipython3",
   "version": "3.7.3"
  }
 },
 "nbformat": 4,
 "nbformat_minor": 2
}
